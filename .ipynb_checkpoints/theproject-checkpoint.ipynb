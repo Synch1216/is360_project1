{
 "metadata": {
  "name": "",
  "signature": "sha256:b5150500dbba00a4f4c4832d76adcb6dab566b7cca9e64102a3bd6bed4bd1671"
 },
 "nbformat": 3,
 "nbformat_minor": 0,
 "worksheets": [
  {
   "cells": [
    {
     "cell_type": "code",
     "collapsed": false,
     "input": [
      "import numpy as np\n",
      "import pandas as pd\n",
      "from pandas import DataFrame\n",
      "import csv "
     ],
     "language": "python",
     "metadata": {},
     "outputs": [],
     "prompt_number": 8
    },
    {
     "cell_type": "code",
     "collapsed": false,
     "input": [
      "import matplotlib.pyplot as plt"
     ],
     "language": "python",
     "metadata": {},
     "outputs": []
    },
    {
     "cell_type": "markdown",
     "metadata": {},
     "source": []
    },
    {
     "cell_type": "code",
     "collapsed": false,
     "input": [
      "df= pd.read_csv('/Users/malcolmbarnes/Desktop/IS360/is360_project1/airpandas.csv')\n",
      "print df"
     ],
     "language": "python",
     "metadata": {},
     "outputs": [
      {
       "output_type": "stream",
       "stream": "stdout",
       "text": [
        "  Unnamed: 0 Unnamed: 1  Los Angeles Pheonix  San Diego  San Francisco Seattle\n",
        "0     ALASKA    on time          497     221        212            503   1,841\n",
        "1        NaN    delayed           62     112         20            102     305\n",
        "2        NaN        NaN          NaN     NaN        NaN            NaN     NaN\n",
        "3    AM WEST    on time          694   4,840        383            320     201\n",
        "4        NaN    delayed          117     415         65            129      61\n"
       ]
      }
     ],
     "prompt_number": 15
    },
    {
     "cell_type": "code",
     "collapsed": false,
     "input": [],
     "language": "python",
     "metadata": {},
     "outputs": [],
     "prompt_number": 6
    },
    {
     "cell_type": "code",
     "collapsed": false,
     "input": [],
     "language": "python",
     "metadata": {},
     "outputs": []
    }
   ],
   "metadata": {}
  }
 ]
}