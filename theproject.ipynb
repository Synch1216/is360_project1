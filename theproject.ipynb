{
 "metadata": {
  "name": "",
  "signature": "sha256:ef152d587b6b8b8c5268778b6042bd5ce7ebd2949abdc3c3092073c5e9244fa5"
 },
 "nbformat": 3,
 "nbformat_minor": 0,
 "worksheets": [
  {
   "cells": [
    {
     "cell_type": "code",
     "collapsed": false,
     "input": [
      "import numpy as np\n",
      "import pandas as pd\n",
      "from pandas import DataFrame\n",
      "import csv "
     ],
     "language": "python",
     "metadata": {},
     "outputs": [],
     "prompt_number": 8
    },
    {
     "cell_type": "code",
     "collapsed": false,
     "input": [
      "import matplotlib.pyplot as plt"
     ],
     "language": "python",
     "metadata": {},
     "outputs": []
    },
    {
     "cell_type": "markdown",
     "metadata": {},
     "source": [
      "So what I did first was import the Python modules using their standard aliases."
     ]
    },
    {
     "cell_type": "code",
     "collapsed": false,
     "input": [
      "df= pd.read_csv('/Users/malcolmbarnes/Desktop/IS360/is360_project1/airpandas.csv')\n",
      "print df"
     ],
     "language": "python",
     "metadata": {},
     "outputs": [
      {
       "output_type": "stream",
       "stream": "stdout",
       "text": [
        "  Unnamed: 0 Unnamed: 1  Los Angeles Pheonix  San Diego  San Francisco Seattle\n",
        "0     ALASKA    on time          497     221        212            503   1,841\n",
        "1        NaN    delayed           62     112         20            102     305\n",
        "2        NaN        NaN          NaN     NaN        NaN            NaN     NaN\n",
        "3    AM WEST    on time          694   4,840        383            320     201\n",
        "4        NaN    delayed          117     415         65            129      61\n"
       ]
      }
     ],
     "prompt_number": 15
    },
    {
     "cell_type": "code",
     "collapsed": false,
     "input": [
      "df.drop(df.index[[2]])"
     ],
     "language": "python",
     "metadata": {},
     "outputs": [
      {
       "html": [
        "<div style=\"max-width:1500px;overflow:auto;\">\n",
        "<table border=\"1\" class=\"dataframe\">\n",
        "  <thead>\n",
        "    <tr style=\"text-align: right;\">\n",
        "      <th></th>\n",
        "      <th>Unnamed: 0</th>\n",
        "      <th>Unnamed: 1</th>\n",
        "      <th>Los Angeles</th>\n",
        "      <th>Pheonix</th>\n",
        "      <th>San Diego</th>\n",
        "      <th>San Francisco</th>\n",
        "      <th>Seattle</th>\n",
        "    </tr>\n",
        "  </thead>\n",
        "  <tbody>\n",
        "    <tr>\n",
        "      <th>0</th>\n",
        "      <td>ALASKA</td>\n",
        "      <td>on time</td>\n",
        "      <td>497</td>\n",
        "      <td>221</td>\n",
        "      <td>212</td>\n",
        "      <td>503</td>\n",
        "      <td>1,841</td>\n",
        "    </tr>\n",
        "    <tr>\n",
        "      <th>1</th>\n",
        "      <td>NaN</td>\n",
        "      <td>delayed</td>\n",
        "      <td>62</td>\n",
        "      <td>112</td>\n",
        "      <td>20</td>\n",
        "      <td>102</td>\n",
        "      <td>305</td>\n",
        "    </tr>\n",
        "    <tr>\n",
        "      <th>3</th>\n",
        "      <td>AM WEST</td>\n",
        "      <td>on time</td>\n",
        "      <td>694</td>\n",
        "      <td>4,840</td>\n",
        "      <td>383</td>\n",
        "      <td>320</td>\n",
        "      <td>201</td>\n",
        "    </tr>\n",
        "    <tr>\n",
        "      <th>4</th>\n",
        "      <td>NaN</td>\n",
        "      <td>delayed</td>\n",
        "      <td>117</td>\n",
        "      <td>415</td>\n",
        "      <td>65</td>\n",
        "      <td>129</td>\n",
        "      <td>61</td>\n",
        "    </tr>\n",
        "  </tbody>\n",
        "</table>\n",
        "</div>"
       ],
       "metadata": {},
       "output_type": "pyout",
       "prompt_number": 16,
       "text": [
        "  Unnamed: 0 Unnamed: 1  Los Angeles Pheonix  San Diego  San Francisco Seattle\n",
        "0     ALASKA    on time          497     221        212            503   1,841\n",
        "1        NaN    delayed           62     112         20            102     305\n",
        "3    AM WEST    on time          694   4,840        383            320     201\n",
        "4        NaN    delayed          117     415         65            129      61"
       ]
      }
     ],
     "prompt_number": 16
    },
    {
     "cell_type": "markdown",
     "metadata": {},
     "source": [
      "There, I dropped the second row in order to make a graph. "
     ]
    },
    {
     "cell_type": "code",
     "collapsed": false,
     "input": [
      "df.plot(kind= 'bar', title= \"Flights\")"
     ],
     "language": "python",
     "metadata": {},
     "outputs": [
      {
       "metadata": {},
       "output_type": "pyout",
       "prompt_number": 17,
       "text": [
        "<matplotlib.axes._subplots.AxesSubplot at 0x10ecd3f50>"
       ]
      },
      {
       "metadata": {},
       "output_type": "display_data",
       "png": "[encoded data removed]",
       "text": [
        "<matplotlib.figure.Figure at 0x10ecca390>"
       ]
      }
     ],
     "prompt_number": 17
    },
    {
     "cell_type": "markdown",
     "metadata": {},
     "source": [
      "Above is the delayed flights from ALASKA(1) and the delayed flights from AMWEST in these cities. AMWEST has more delays in these cities."
     ]
    },
    {
     "cell_type": "code",
     "collapsed": false,
     "input": [],
     "language": "python",
     "metadata": {},
     "outputs": [],
     "prompt_number": 18
    },
    {
     "cell_type": "code",
     "collapsed": false,
     "input": [],
     "language": "python",
     "metadata": {},
     "outputs": []
    }
   ],
   "metadata": {}
  }
 ]
}